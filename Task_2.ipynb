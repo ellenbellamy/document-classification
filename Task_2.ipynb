{
  "metadata": {
    "kernelspec": {
      "name": "python",
      "display_name": "Python (Pyodide)",
      "language": "python"
    },
    "language_info": {
      "codemirror_mode": {
        "name": "python",
        "version": 3
      },
      "file_extension": ".py",
      "mimetype": "text/x-python",
      "name": "python",
      "nbconvert_exporter": "python",
      "pygments_lexer": "ipython3",
      "version": "3.8"
    },
    "vscode": {
      "interpreter": {
        "hash": "916dbcbb3f70747c44a77c7bcd40155683ae19c65e1c03b4aa3499c5328201f1"
      }
    }
  },
  "nbformat_minor": 4,
  "nbformat": 4,
  "cells": [
    {
      "cell_type": "code",
      "source": "import numpy as np\nimport scipy as sp\nimport matplotlib.pyplot as plt\nimport seaborn as sns\n\n%matplotlib inline",
      "metadata": {
        "trusted": true
      },
      "execution_count": 2,
      "outputs": [
        {
          "ename": "<class 'ModuleNotFoundError'>",
          "evalue": "No module named 'seaborn'",
          "traceback": [
            "\u001b[0;31m---------------------------------------------------------------------------\u001b[0m",
            "\u001b[0;31mModuleNotFoundError\u001b[0m                       Traceback (most recent call last)",
            "Cell \u001b[0;32mIn [2], line 4\u001b[0m\n\u001b[1;32m      2\u001b[0m \u001b[38;5;28;01mimport\u001b[39;00m \u001b[38;5;21;01mscipy\u001b[39;00m \u001b[38;5;28;01mas\u001b[39;00m \u001b[38;5;21;01msp\u001b[39;00m\n\u001b[1;32m      3\u001b[0m \u001b[38;5;28;01mimport\u001b[39;00m \u001b[38;5;21;01mmatplotlib\u001b[39;00m\u001b[38;5;21;01m.\u001b[39;00m\u001b[38;5;21;01mpyplot\u001b[39;00m \u001b[38;5;28;01mas\u001b[39;00m \u001b[38;5;21;01mplt\u001b[39;00m\n\u001b[0;32m----> 4\u001b[0m \u001b[38;5;28;01mimport\u001b[39;00m \u001b[38;5;21;01mseaborn\u001b[39;00m \u001b[38;5;28;01mas\u001b[39;00m \u001b[38;5;21;01msns\u001b[39;00m\n\u001b[1;32m      6\u001b[0m get_ipython()\u001b[38;5;241m.\u001b[39mrun_line_magic(\u001b[38;5;124m'\u001b[39m\u001b[38;5;124mmatplotlib\u001b[39m\u001b[38;5;124m'\u001b[39m, \u001b[38;5;124m'\u001b[39m\u001b[38;5;124minline\u001b[39m\u001b[38;5;124m'\u001b[39m)\n",
            "\u001b[0;31mModuleNotFoundError\u001b[0m: No module named 'seaborn'"
          ],
          "output_type": "error"
        }
      ]
    },
    {
      "cell_type": "markdown",
      "source": "# 2. Работа с массивами NumPy",
      "metadata": {}
    },
    {
      "cell_type": "markdown",
      "source": "**N. Все упражнения ниже нужно делать без использования циклов Python**\n\n**2.1.** Cоздать вектор\n\n$$(2, \\frac{2^2}{2}, \\ldots, \\frac{2^{20}}{20})$$\n\nМожно использовать функции [np.arange()](http://docs.scipy.org/doc/numpy/reference/generated/numpy.arange.html), [np.ones()](http://docs.scipy.org/doc/numpy/reference/generated/numpy.ones.html)",
      "metadata": {}
    },
    {
      "cell_type": "code",
      "source": "a = np.arange(1, 21)\nf = lambda n: 2**n/n\nf(a)",
      "metadata": {
        "trusted": true
      },
      "execution_count": 3,
      "outputs": [
        {
          "execution_count": 3,
          "output_type": "execute_result",
          "data": {
            "text/plain": "array([2.00000000e+00, 2.00000000e+00, 2.66666667e+00, 4.00000000e+00,\n       6.40000000e+00, 1.06666667e+01, 1.82857143e+01, 3.20000000e+01,\n       5.68888889e+01, 1.02400000e+02, 1.86181818e+02, 3.41333333e+02,\n       6.30153846e+02, 1.17028571e+03, 2.18453333e+03, 4.09600000e+03,\n       7.71011765e+03, 1.45635556e+04, 2.75941053e+04, 5.24288000e+04])"
          },
          "metadata": {}
        }
      ]
    },
    {
      "cell_type": "markdown",
      "source": "**2.2.** Посчитать:\n\n$$\\sum\\limits_{i=0}^{5}{0.1^{3i}0.2^{4i}}$$\n",
      "metadata": {}
    },
    {
      "cell_type": "code",
      "source": "## your code\na = np.arange(0, 5)\nf = lambda i:0.1**(3*i)*0.2**(4*i)\nf(a).sum()",
      "metadata": {
        "trusted": true
      },
      "execution_count": 4,
      "outputs": [
        {
          "execution_count": 4,
          "output_type": "execute_result",
          "data": {
            "text/plain": "1.00000160000256"
          },
          "metadata": {}
        }
      ]
    },
    {
      "cell_type": "markdown",
      "source": "**2.3.** Создать нулевую матрицe $8 \\times 8$, и заполнить её единицами в шахматном порядке.",
      "metadata": {}
    },
    {
      "cell_type": "code",
      "source": "## your code\nnp.fromfunction(lambda i, j: (i+j+1)%2, (8, 8))",
      "metadata": {
        "trusted": true
      },
      "execution_count": 8,
      "outputs": [
        {
          "execution_count": 8,
          "output_type": "execute_result",
          "data": {
            "text/plain": "array([[1., 0., 1., 0., 1., 0., 1., 0.],\n       [0., 1., 0., 1., 0., 1., 0., 1.],\n       [1., 0., 1., 0., 1., 0., 1., 0.],\n       [0., 1., 0., 1., 0., 1., 0., 1.],\n       [1., 0., 1., 0., 1., 0., 1., 0.],\n       [0., 1., 0., 1., 0., 1., 0., 1.],\n       [1., 0., 1., 0., 1., 0., 1., 0.],\n       [0., 1., 0., 1., 0., 1., 0., 1.]])"
          },
          "metadata": {}
        }
      ]
    },
    {
      "cell_type": "markdown",
      "source": "**2.4.** Есть 5 точек в декартовой системе координат (в виде матрицы $X$ размерностью $5 \\times 2$), сконвертируйте эти точки в полярную систему координат.",
      "metadata": {}
    },
    {
      "cell_type": "code",
      "source": "X = np.random.random((10, 10))\n\n## your code\nimport math\nX = np.random.random((5, 2))\n\ndef cart_to_polar(a):\n    x, y = a\n    return (x**2+y**2)**(1/2), math.atan(y/x)\n\nnp.apply_along_axis(cart_to_polar, 1, X)",
      "metadata": {
        "trusted": true
      },
      "execution_count": 9,
      "outputs": [
        {
          "execution_count": 9,
          "output_type": "execute_result",
          "data": {
            "text/plain": "array([[1.01445699, 0.73417583],\n       [0.9799461 , 0.58626665],\n       [0.68581331, 0.85508826],\n       [0.26979537, 0.23445045],\n       [0.58194205, 0.27543465]])"
          },
          "metadata": {}
        }
      ]
    },
    {
      "cell_type": "markdown",
      "source": "**2.5.** Найдите индексы максимального элемента в случайной матрице $10 \\times 10$.\n\nCм. [np.argmax()](http://docs.scipy.org/doc/numpy/reference/generated/numpy.argmax.html).",
      "metadata": {}
    },
    {
      "cell_type": "code",
      "source": "X = np.random.random((10, 10))\ncoords = (np.argmax(X)//10, np.argmax(X)%10)\ncoords",
      "metadata": {
        "trusted": true
      },
      "execution_count": 12,
      "outputs": [
        {
          "execution_count": 12,
          "output_type": "execute_result",
          "data": {
            "text/plain": "(4, 1)"
          },
          "metadata": {}
        }
      ]
    },
    {
      "cell_type": "markdown",
      "source": "**2.6.** Есть 10 точек ($X$) и ещё одна ($y$). Найти в $X$ ближайшую к $y$ точку.",
      "metadata": {}
    },
    {
      "cell_type": "code",
      "source": "X = np.random.random((10, 2))\ny = np.random.random((1, 2))\n\ndistances = np.linalg.norm(X - y, ord=2, axis=1)\nprint(f'{X[np.argmin(distances)]}')",
      "metadata": {
        "trusted": true
      },
      "execution_count": 16,
      "outputs": [
        {
          "name": "stdout",
          "text": "[0.53320148 0.89341819]\n",
          "output_type": "stream"
        }
      ]
    },
    {
      "cell_type": "markdown",
      "source": "**2.7.** Дана функция:\n\n$$\n \\begin{cases}\n    x^2 + 2x + 6, & x < 0  \\\\\n    x + 6, & 0 \\le x \\le 2 \\\\\n    x^2 + 4x - 4, & x \\ge 2\n \\end{cases}\n$$\n\nПостройте массив из её значений на  $-3 \\le x \\le 3$.",
      "metadata": {}
    },
    {
      "cell_type": "code",
      "source": "## your code\ndef f(x):\n    if x < 0:\n        return x**2 + 2*x + 6\n    elif 0 <= x <= 2:\n        return x+6\n    else:\n        return x**2+4*x-4\n    \nnp.vectorize(f)(np.arange(-3, 4))",
      "metadata": {
        "trusted": true
      },
      "execution_count": 17,
      "outputs": [
        {
          "execution_count": 17,
          "output_type": "execute_result",
          "data": {
            "text/plain": "array([ 9,  6,  5,  6,  7,  8, 17])"
          },
          "metadata": {}
        }
      ]
    },
    {
      "cell_type": "markdown",
      "source": "**2.8.** Из каждого элемента матрицы вычесть среднее арифметическое от всех элементов в соответствующей строке (после чего среднее значение каждой строки должно равняться нулю).\n\nCм. [np.mean()](http://docs.scipy.org/doc/numpy/reference/generated/numpy.mean.html).",
      "metadata": {}
    },
    {
      "cell_type": "code",
      "source": "X = np.random.random((10, 10))\nnp.mean(X - np.mean(X)), (X - np.mean(X))",
      "metadata": {
        "trusted": true
      },
      "execution_count": 19,
      "outputs": [
        {
          "execution_count": 19,
          "output_type": "execute_result",
          "data": {
            "text/plain": "(-1.0824674490095276e-16,\n array([[-0.14947366,  0.00104874,  0.02350351, -0.40176873,  0.26952797,\n          0.22190148,  0.48020648,  0.10386634,  0.33113096,  0.29768307],\n        [-0.2413309 ,  0.40128691,  0.49551868,  0.20272051,  0.04541393,\n          0.32776639,  0.37273032, -0.45716851, -0.07871517,  0.04982986],\n        [ 0.02362073,  0.07773795, -0.07788279, -0.45081689,  0.1933101 ,\n         -0.28994346, -0.18304213,  0.51111684, -0.47555992,  0.41760493],\n        [-0.34977987,  0.3113157 ,  0.39220034,  0.07386317, -0.3153007 ,\n         -0.2461182 , -0.14636504, -0.41912002, -0.32883636,  0.12265555],\n        [ 0.03564517,  0.10456551, -0.18325461,  0.16034374,  0.16209122,\n         -0.20328032,  0.00102734,  0.27234815, -0.20439071, -0.25015125],\n        [-0.01811255, -0.16866009,  0.18132701, -0.41138353,  0.49739323,\n         -0.34560601, -0.11539873,  0.10456666, -0.16745055,  0.21042582],\n        [-0.38137311, -0.06085469,  0.06123704, -0.22663969, -0.41245954,\n          0.08749859,  0.44324859, -0.05058066, -0.18267719, -0.39129027],\n        [-0.03725295,  0.18327812,  0.38662026, -0.38472537, -0.28164687,\n          0.0139169 ,  0.42478196, -0.14063635,  0.01366287,  0.09199691],\n        [-0.11494405,  0.19406608, -0.20281694,  0.48128261,  0.50700212,\n         -0.08341417, -0.30212789, -0.44500874,  0.15605092, -0.32097348],\n        [ 0.08508858,  0.05503334,  0.33865521, -0.21827961, -0.17418612,\n         -0.31833472,  0.51232684, -0.4466583 ,  0.46846175, -0.12571161]]))"
          },
          "metadata": {}
        }
      ]
    },
    {
      "cell_type": "markdown",
      "source": "**2.9.** Есть массив из 1000 чисел, полученных из генератора случайных чисел, имеющий нормальное распределение. Посчитайте выборочное среднее и выборочную дисперсию. ",
      "metadata": {}
    },
    {
      "cell_type": "code",
      "source": "X = np.random.normal(loc=5, scale=2., size=1000)\n\nnp.mean(X), np.var(X)",
      "metadata": {
        "trusted": true
      },
      "execution_count": 20,
      "outputs": [
        {
          "execution_count": 20,
          "output_type": "execute_result",
          "data": {
            "text/plain": "(4.926561781151084, 3.9585871626093603)"
          },
          "metadata": {}
        }
      ]
    },
    {
      "cell_type": "markdown",
      "source": "**2.10.** Создать матрицу (NB. БЕЗ ЦИКЛОВ И ИЗМЕНЕНИЯ ОТДЕЛЬНЫХ ЭЛЕМЕНТОВ):\n\n$$\n\\begin{pmatrix}\n0 & 1 & 2 & 3 & 4 \\\\\n1 & 2 & 3 & 4 & 0 \\\\\n2 & 3 & 4 & 0 & 1 \\\\\n3 & 4 & 0 & 1 & 2 \\\\\n4 & 0 & 1 & 2 & 3\n\\end{pmatrix}\n$$",
      "metadata": {}
    },
    {
      "cell_type": "code",
      "source": "## your code\nnp.fromfunction(lambda i, j: (i+j)%5, (5, 5))",
      "metadata": {
        "trusted": true
      },
      "execution_count": 21,
      "outputs": [
        {
          "execution_count": 21,
          "output_type": "execute_result",
          "data": {
            "text/plain": "array([[0., 1., 2., 3., 4.],\n       [1., 2., 3., 4., 0.],\n       [2., 3., 4., 0., 1.],\n       [3., 4., 0., 1., 2.],\n       [4., 0., 1., 2., 3.]])"
          },
          "metadata": {}
        }
      ]
    },
    {
      "cell_type": "markdown",
      "source": "**2.11.** Есть следующий алгоритм семплинирования, на вход функции подается вектор из целых положительных чисел и число семплов.",
      "metadata": {}
    },
    {
      "cell_type": "code",
      "source": "def sample(x, c):\n    assert len(x) > 0\n    \n    s = np.sum(x)\n    res = []\n    for _ in range(c):\n        val = s * np.random.random()\n        cur, idx = 0, 0        \n        while cur + x[idx] <= val:\n            cur += x[idx]\n            idx += 1\n            \n        res.append(idx)\n    return res\n\n            \nsample([50, 3, 1, 7, 20], 5)    ",
      "metadata": {},
      "execution_count": 12,
      "outputs": [
        {
          "execution_count": 12,
          "output_type": "execute_result",
          "data": {
            "text/plain": [
              "[0, 0, 4, 0, 0]"
            ]
          },
          "metadata": {}
        }
      ]
    },
    {
      "cell_type": "markdown",
      "source": "Реализуйте данный алгоритм более оптимальным способом, без использования циклов.",
      "metadata": {}
    },
    {
      "cell_type": "code",
      "source": "## your code\ndef sample(x, c):\n    vec = np.array(x)\n    rand_vec = np.random.rand(c)*np.sum(vec)\n    cumsum = np.transpose([np.cumsum(vec)])\n    return np.argmax((rand_vec < cumsum).T, axis=1)\nsample([50, 3, 1, 7, 20], 5) ",
      "metadata": {
        "trusted": true
      },
      "execution_count": 22,
      "outputs": [
        {
          "execution_count": 22,
          "output_type": "execute_result",
          "data": {
            "text/plain": "array([4, 3, 0, 1, 0], dtype=int32)"
          },
          "metadata": {}
        }
      ]
    },
    {
      "cell_type": "code",
      "source": "",
      "metadata": {},
      "execution_count": null,
      "outputs": []
    }
  ]
}