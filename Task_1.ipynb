{
  "metadata": {
    "kernelspec": {
      "name": "python",
      "display_name": "Python (Pyodide)",
      "language": "python"
    },
    "language_info": {
      "codemirror_mode": {
        "name": "python",
        "version": 3
      },
      "file_extension": ".py",
      "mimetype": "text/x-python",
      "name": "python",
      "nbconvert_exporter": "python",
      "pygments_lexer": "ipython3",
      "version": "3.8"
    },
    "vscode": {
      "interpreter": {
        "hash": "916dbcbb3f70747c44a77c7bcd40155683ae19c65e1c03b4aa3499c5328201f1"
      }
    }
  },
  "nbformat_minor": 4,
  "nbformat": 4,
  "cells": [
    {
      "cell_type": "markdown",
      "source": "# Задание 1.1\n\n[Свертка списка](https://ru.wikipedia.org/wiki/%D0%A1%D0%B2%D1%91%D1%80%D1%82%D0%BA%D0%B0_%D1%81%D0%BF%D0%B8%D1%81%D0%BA%D0%B0) -  это обобщенная операция над списком, c помощью которой можно преобразовать список в единое значение. Например, рассмотрим реализации свертки слева и свертки справа (левоассоциативную свертку и правоассоциативную свертку):",
      "metadata": {}
    },
    {
      "cell_type": "code",
      "source": "def foldl(f, x0, lst):\n    if not lst:\n        return x0\n    return foldl(f, f(x0, lst[0]), lst[1:])\n\ndef foldr(f, x0, lst):\n    if not lst:\n        return x0\n    return f(lst[0], foldr(f, x0, lst[1:]))",
      "metadata": {
        "tags": [],
        "trusted": true
      },
      "execution_count": 1,
      "outputs": []
    },
    {
      "cell_type": "code",
      "source": "#сумма\nfoldl(lambda x, y: x + y, 0, [1, 2, 3])",
      "metadata": {
        "trusted": true
      },
      "execution_count": 2,
      "outputs": [
        {
          "execution_count": 2,
          "output_type": "execute_result",
          "data": {
            "text/plain": "6"
          },
          "metadata": {}
        }
      ]
    },
    {
      "cell_type": "code",
      "source": "#конкатенация\nfoldl(lambda x, y: '{}{}'.format(x, y), '', [1, 2, 3])",
      "metadata": {
        "trusted": true
      },
      "execution_count": 3,
      "outputs": [
        {
          "execution_count": 3,
          "output_type": "execute_result",
          "data": {
            "text/plain": "'123'"
          },
          "metadata": {}
        }
      ]
    },
    {
      "cell_type": "code",
      "source": "f = lambda x, y: x / y\nfoldl(f, 1, [1, 2, 3, 4]), \\\nfoldr(f, 1, [1, 2, 3, 4])",
      "metadata": {
        "trusted": true
      },
      "execution_count": 56,
      "outputs": [
        {
          "execution_count": 56,
          "output_type": "execute_result",
          "data": {
            "text/plain": "(0.041666666666666664, 0.375)"
          },
          "metadata": {}
        }
      ]
    },
    {
      "cell_type": "markdown",
      "source": "Задача: реализовать foldl через foldr и наоборот. Вместо многоточий нужно вставить выражения, которые бы привели к нужному результату. Модифицировать сам список нельзя. ",
      "metadata": {}
    },
    {
      "cell_type": "code",
      "source": "def foldl2(f, x0, lst):\n    return foldr(lambda y, x: f(x, y), x0, lst[::-1])",
      "metadata": {
        "tags": [],
        "trusted": true
      },
      "execution_count": 46,
      "outputs": []
    },
    {
      "cell_type": "code",
      "source": "f = lambda x, y: x / y\nfoldl2(f, 1 , [1, 2, 3])",
      "metadata": {
        "trusted": true
      },
      "execution_count": 54,
      "outputs": [
        {
          "execution_count": 54,
          "output_type": "execute_result",
          "data": {
            "text/plain": "0.16666666666666666"
          },
          "metadata": {}
        }
      ]
    },
    {
      "cell_type": "code",
      "source": "def foldr2(f, x0, lst):\n    return foldl(lambda y, x: f(x, y), x0, lst[::-1])",
      "metadata": {
        "tags": [],
        "trusted": true
      },
      "execution_count": 48,
      "outputs": []
    },
    {
      "cell_type": "code",
      "source": "f = lambda x, y: x / y\nfoldr2(f, 1 , [1, 2, 3, 4])",
      "metadata": {
        "trusted": true
      },
      "execution_count": 52,
      "outputs": [
        {
          "execution_count": 52,
          "output_type": "execute_result",
          "data": {
            "text/plain": "0.375"
          },
          "metadata": {}
        }
      ]
    },
    {
      "cell_type": "code",
      "source": "foldl2(lambda x, y: '{}{}'.format(x, y), '', [1, 2, 3, 4])",
      "metadata": {
        "trusted": true
      },
      "execution_count": 51,
      "outputs": [
        {
          "execution_count": 51,
          "output_type": "execute_result",
          "data": {
            "text/plain": "'123'"
          },
          "metadata": {}
        }
      ]
    },
    {
      "cell_type": "markdown",
      "source": "# Задание 1.2\n\nнужно написать функцию, которая принимает две строки и проверяет, входит ли хотя бы одна перестановка второй строки в первую. Например:\n\n> a = 'abcrotm'\n> \n> b = 'tro'\n\nфункция def check_inv(a, b) вернет True, так как 'rot' содержится в 'abcrotm'. Нужно подумать как можно более оптимальный алгоритм и оценить его сложность. ",
      "metadata": {
        "tags": []
      }
    },
    {
      "cell_type": "code",
      "source": "import collections\ndef check_inv(a, b):\n        ln = len(b)\n        cnt = collections.Counter(b)\n        #print(dict(cnt))\n        for i in range(len(a) - ln + 1):\n            sb = a[i:i+ln]\n            if cnt == collections.Counter(sb):\n                #print(collections.Counter(sb))\n                return True\n        #print(collections.Counter(sb))\n        return False\n",
      "metadata": {
        "tags": [],
        "trusted": true
      },
      "execution_count": 79,
      "outputs": []
    },
    {
      "cell_type": "code",
      "source": "a = 'ardbcrotm'\n\nb = 'tormcbra'\ncheck_inv(a, b)",
      "metadata": {
        "trusted": true
      },
      "execution_count": 80,
      "outputs": [
        {
          "execution_count": 75,
          "output_type": "execute_result",
          "data": {
            "text/plain": "False"
          },
          "metadata": {}
        }
      ]
    },
    {
      "cell_type": "code",
      "source": "a = 'arbcrotm'\n\nb = 'tormcbra'\ncheck_inv(a, b)",
      "metadata": {
        "trusted": true
      },
      "execution_count": 81,
      "outputs": [
        {
          "execution_count": 76,
          "output_type": "execute_result",
          "data": {
            "text/plain": "True"
          },
          "metadata": {}
        }
      ]
    },
    {
      "cell_type": "markdown",
      "source": "# Задание 1.3\n\nРеализовать бинарное дерево (класс Tree), в нём методы __repr__, __str__, __iter__ (итерация только по листьям).",
      "metadata": {}
    },
    {
      "cell_type": "code",
      "source": "class Tree:\n    def __init__(self, value=None, left=None, right=None):\n        self.left = left\n        self.right = right\n        self.value = value\n        \n    def __iter__(self):\n        if self.left:\n            yield from self.left\n        yield self\n        if self.right:\n            yield from self.right\n    \n    def __str__(self):\n        s = str(self.value)+':'\n        if self.left and self.right != None:\n            s+=' '+ str(self.left)\n            s+=' '+ str(self.right)\n            \n        return s\n         \n    \n    def __repr__(self):\n        if self.left:\n            self.left.__repr__()\n        print( self.value),\n        if self.right:\n            self.right.__repr__()\n    \ntree = Tree(0, Tree(1, Tree(3), Tree(4)),                             \n               Tree(2))\n\nlist(tree) == [0]\ntree.__str__()\n",
      "metadata": {
        "trusted": true
      },
      "execution_count": 24,
      "outputs": [
        {
          "execution_count": 24,
          "output_type": "execute_result",
          "data": {
            "text/plain": "'0: 1: 3: 4: 2:'"
          },
          "metadata": {}
        }
      ]
    },
    {
      "cell_type": "markdown",
      "source": "# Задание 1.4\n\nРеализовать простейший калькулятор математических выражений:\n- только целые числа\n- **+**, **\\-**, **\\***, **\\**\n- скобки\n\n**Можно использовать регулярные выражения**",
      "metadata": {}
    },
    {
      "cell_type": "code",
      "source": "def calc(expr):\n    a = eval(expr)\n    return a",
      "metadata": {
        "trusted": true
      },
      "execution_count": 93,
      "outputs": []
    },
    {
      "cell_type": "code",
      "source": "print(calc('2 * (15 - 3 * 4) - 2'))",
      "metadata": {
        "trusted": true
      },
      "execution_count": 95,
      "outputs": [
        {
          "name": "stdout",
          "text": "4\n",
          "output_type": "stream"
        }
      ]
    },
    {
      "cell_type": "code",
      "source": "print(calc('10*5+(4+3)-6**5*10'))",
      "metadata": {
        "trusted": true
      },
      "execution_count": 94,
      "outputs": [
        {
          "name": "stdout",
          "text": "-77703\n",
          "output_type": "stream"
        }
      ]
    },
    {
      "cell_type": "code",
      "source": "",
      "metadata": {},
      "execution_count": null,
      "outputs": []
    }
  ]
}