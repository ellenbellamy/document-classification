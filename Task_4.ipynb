{
  "cells": [
    {
      "cell_type": "markdown",
      "metadata": {
        "id": "hAG76U9Hyimj"
      },
      "source": [
        "# Линейная регрессия"
      ]
    },
    {
      "cell_type": "markdown",
      "metadata": {
        "id": "viMf7y3zyimp"
      },
      "source": [
        "Данные содержатся в файле `data/lin_reg.txt`. Прочитать их можно следующим так:"
      ]
    },
    {
      "cell_type": "code",
      "execution_count": 1,
      "metadata": {
        "id": "lL_htqcmyimq"
      },
      "outputs": [],
      "source": [
        "import numpy as np\n",
        "D = np.loadtxt('lin_reg.txt', delimiter=',')\n",
        "X = D[:, :-1]\n",
        "Y = D[:, -1]"
      ]
    },
    {
      "cell_type": "code",
      "execution_count": 2,
      "metadata": {
        "id": "qdnhjOmeyims"
      },
      "outputs": [],
      "source": [
        "import matplotlib.pyplot as plt"
      ]
    },
    {
      "cell_type": "markdown",
      "metadata": {
        "id": "HTrnckHJyimt"
      },
      "source": [
        "При выполнении заданий **нельзя** пользоваться `scikit-learn` и т.п., только `NumPy`/`JAX`/`TF`/`PyTorch` и `matplotlib`/`seaborn`/`plotly`/etc.\n",
        "\n",
        "1. Нарисуйте график среднеквадратичной ошибки в зависимости от параметра регуляризации $\\alpha$, используя полные данные для обучения и для тестирования. \n",
        "2. Подготовьте исходные данные для 5 fold CV.\n",
        "3. С помощью CV найдите оптимальное значение $\\alpha$ на какой-нибудь сетке значений.\n",
        "4. Постройте валидационную кривую. \n",
        "5. Постройте кривую обучения."
      ]
    },
    {
      "cell_type": "code",
      "execution_count": 4,
      "metadata": {
        "id": "Yes6_ZIByimu"
      },
      "outputs": [],
      "source": [
        "X = np.hstack((X,np.ones((X.shape[0],1))))\n",
        "y = np.reshape(Y, [len(Y), 1])"
      ]
    },
    {
      "cell_type": "code",
      "source": [
        "print('y:',y.shape)\n",
        "print('x:',X.shape)"
      ],
      "metadata": {
        "colab": {
          "base_uri": "https://localhost:8080/"
        },
        "id": "cmkECuhKywSY",
        "outputId": "de3b00f4-0b5e-4c62-85f9-af77470b9f4c"
      },
      "execution_count": 5,
      "outputs": [
        {
          "output_type": "stream",
          "name": "stdout",
          "text": [
            "y: (1000, 1)\n",
            "x: (1000, 6)\n"
          ]
        }
      ]
    },
    {
      "cell_type": "code",
      "source": [
        "print(X)"
      ],
      "metadata": {
        "colab": {
          "base_uri": "https://localhost:8080/"
        },
        "id": "Le2bZ1k4EFJ9",
        "outputId": "47efd91e-3cca-4389-b9a0-a5667437995f"
      },
      "execution_count": 6,
      "outputs": [
        {
          "output_type": "stream",
          "name": "stdout",
          "text": [
            "[[  9.31  -17.043  20.807  11.109   1.      1.   ]\n",
            " [ -6.446 -12.46  -12.941 -14.715   1.      1.   ]\n",
            " [ 14.324  -9.624  29.533   1.439   1.      1.   ]\n",
            " ...\n",
            " [  3.56    2.063   7.302  -7.817   1.      1.   ]\n",
            " [ 11.841 -14.315  23.148  11.777   1.      1.   ]\n",
            " [ -3.345 -15.219  -4.751  -1.141   1.      1.   ]]\n"
          ]
        }
      ]
    },
    {
      "cell_type": "code",
      "execution_count": 21,
      "metadata": {
        "id": "ftdXOZlbyimu"
      },
      "outputs": [],
      "source": [
        "class LinearRegression:\n",
        "    def __init__(self):\n",
        "\n",
        "        self.W = None\n",
        "    def init_weights(self, input_size, output_size):\n",
        "        self.W = np.random.normal(0, 0.01, (input_size, output_size))\n",
        "    def predict(self, X):\n",
        "        return  X.dot(self.W)\n",
        "    def MSE(self):\n",
        "        return self.mse[len(self.mse)-1]\n",
        "    def fit(self, X, y, X_test=None,y_test=None,num_epochs=100, lr=0.001, alpha = 0.1):\n",
        "        n = len(y)     \n",
        "        loss_f = lambda preds, y, alpha: np.sum((preds-y)**2)/n + (float(sum(self.W**2)/n))*alpha #MSE+рег\n",
        "        self.init_weights(X.shape[1], y.shape[1])\n",
        "        loss = []\n",
        "        if type(X_test) is np.ndarray and type(y_test) is np.ndarray:\n",
        "            val_loss = []\n",
        "        for epoch in range(num_epochs):\n",
        "            preds = self.predict(X)\n",
        "            W_grad = 2*X.T.dot(preds - y)/n + alpha*self.W\n",
        "            self.W -= lr*W_grad\n",
        "            error = loss_f(preds, y, alpha)\n",
        "            loss.append(error)\n",
        "            if type(X_test) is np.ndarray and type(y_test) is np.ndarray:\n",
        "                val_loss.append(self.eval(X_test,y_test,alpha))\n",
        "        if type(X_test) is not np.ndarray or type(y_test) is not np.ndarray: \n",
        "            return loss\n",
        "        else:\n",
        "            return loss, val_loss\n",
        "    \n",
        "    def eval (self, X, y, alpha):\n",
        "        n = len(y)\n",
        "        preds = self.predict(X)\n",
        "        return np.sum((preds-y)**2)/n + (float(sum(self.W**2)/n))*alpha #MSE\n"
      ]
    },
    {
      "cell_type": "code",
      "execution_count": 22,
      "metadata": {
        "id": "hlNT8Xy7yimw"
      },
      "outputs": [],
      "source": [
        "l_regr = LinearRegression()"
      ]
    },
    {
      "cell_type": "code",
      "execution_count": 23,
      "metadata": {
        "id": "FmNy74Qcyimx"
      },
      "outputs": [],
      "source": [
        "alpha_list = np.arange(0.001,5,0.01)\n",
        "list_epoch_loss = []\n",
        "for alpha in alpha_list:\n",
        "    list_epoch_loss.append(l_regr.fit(X,y,alpha=alpha)[-1])"
      ]
    },
    {
      "cell_type": "code",
      "source": [],
      "metadata": {
        "id": "QwqAYavKGQLJ"
      },
      "execution_count": 19,
      "outputs": []
    },
    {
      "cell_type": "markdown",
      "source": [
        "Зависимость MSE от параметра регуляризации"
      ],
      "metadata": {
        "id": "5es2y8LOGf2T"
      }
    },
    {
      "cell_type": "code",
      "execution_count": 24,
      "metadata": {
        "colab": {
          "base_uri": "https://localhost:8080/",
          "height": 282
        },
        "id": "Xbz5FkT0yimy",
        "outputId": "a365b81a-ab73-49e4-a1c3-f5e9d3fb166a"
      },
      "outputs": [
        {
          "output_type": "execute_result",
          "data": {
            "text/plain": [
              "[<matplotlib.lines.Line2D at 0x7fbdb13257f0>]"
            ]
          },
          "metadata": {},
          "execution_count": 24
        },
        {
          "output_type": "display_data",
          "data": {
            "text/plain": [
              "<Figure size 432x288 with 1 Axes>"
            ],
            "image/png": "[encoded data removed]"
          },
          "metadata": {
            "needs_background": "light"
          }
        }
      ],
      "source": [
        "plt.plot(alpha_list,list_epoch_loss)"
      ]
    },
    {
      "cell_type": "code",
      "execution_count": 25,
      "metadata": {
        "id": "xCWMbzAZyimz"
      },
      "outputs": [],
      "source": [
        "from numpy.random import permutation\n",
        "dataset = np.hstack((X,y))\n",
        "dataset = permutation(dataset)\n",
        "X_new = dataset[:,:-1]\n",
        "y_new = dataset[:,-1].reshape(-1,1)"
      ]
    },
    {
      "cell_type": "markdown",
      "source": [
        "5CV"
      ],
      "metadata": {
        "id": "Xo4QNP7kFeup"
      }
    },
    {
      "cell_type": "code",
      "execution_count": 26,
      "metadata": {
        "id": "Y4hd7-9Ryim0"
      },
      "outputs": [],
      "source": [
        "k = 5\n",
        "def K_fold_cv(k,X,y):\n",
        "    n = len(y)\n",
        "    for i in range(k):\n",
        "        yield X[n*i//k:n*(i+1)//k], y[n*i//k:n*(i+1)//k], \\\n",
        "                np.delete(X,np.s_[n*i//k:n*(i+1)//k],axis = 0), \\\n",
        "                np.delete(y,np.s_[n*i//k:n*(i+1)//k],axis = 0)"
      ]
    },
    {
      "cell_type": "code",
      "execution_count": 27,
      "metadata": {
        "id": "EtaUmBR4yim0"
      },
      "outputs": [],
      "source": [
        "alphas_loss = []\n",
        "new_alpha_list = np.arange(0.001,5,0.1)\n",
        "for alpha in new_alpha_list:\n",
        "    generator = K_fold_cv(k,X_new,y_new)\n",
        "    cv_loss = []\n",
        "    for i in range (k):\n",
        "        X_test, y_test, X_train, y_train = next(generator)\n",
        "        l_regr.fit(X_train,y_train, alpha=alpha)\n",
        "        cv_loss.append(l_regr.eval(X_test,y_test,alpha))\n",
        "    alphas_loss.append(np.mean(cv_loss))"
      ]
    },
    {
      "cell_type": "code",
      "execution_count": 28,
      "metadata": {
        "colab": {
          "base_uri": "https://localhost:8080/"
        },
        "id": "EcHFl1YSyim1",
        "outputId": "cd988b83-96b5-4eba-ed72-4939da911ef4"
      },
      "outputs": [
        {
          "output_type": "stream",
          "name": "stdout",
          "text": [
            "оптимальное значение альфы =  0.001\n"
          ]
        }
      ],
      "source": [
        "opt = alpha_list[np.argmin(alphas_loss)]\n",
        "print ('оптимальное значение альфы = ',opt)"
      ]
    },
    {
      "cell_type": "code",
      "execution_count": 29,
      "metadata": {
        "id": "uVgTFoTpyim1"
      },
      "outputs": [],
      "source": [
        "X_test, y_test, X_train, y_train = next(K_fold_cv(k,X_new,y_new))\n",
        "train_loss, val_loss = l_regr.fit(X_train,y_train,X_test=X_test,y_test=y_test,alpha=opt)"
      ]
    },
    {
      "cell_type": "code",
      "execution_count": 30,
      "metadata": {
        "colab": {
          "base_uri": "https://localhost:8080/",
          "height": 282
        },
        "id": "j8dYjmBxyim1",
        "outputId": "d7947e5c-46bd-44c2-cc65-5488da488a92"
      },
      "outputs": [
        {
          "output_type": "display_data",
          "data": {
            "text/plain": [
              "<Figure size 432x288 with 1 Axes>"
            ],
            "image/png": "[encoded data removed]"
          },
          "metadata": {
            "needs_background": "light"
          }
        }
      ],
      "source": [
        "plt.plot(train_loss,label='train')\n",
        "plt.plot(val_loss,label = 'test')\n",
        "\n",
        "plt.xlabel('эпохи')\n",
        "plt.ylabel('ошибка')\n",
        "\n",
        "plt.legend()\n",
        "plt.show()"
      ]
    }
  ],
  "metadata": {
    "kernelspec": {
      "display_name": "Python 3",
      "language": "python",
      "name": "python3"
    },
    "language_info": {
      "codemirror_mode": {
        "name": "ipython",
        "version": 3
      },
      "file_extension": ".py",
      "mimetype": "text/x-python",
      "name": "python",
      "nbconvert_exporter": "python",
      "pygments_lexer": "ipython3",
      "version": "3.7.9"
    },
    "colab": {
      "provenance": []
    }
  },
  "nbformat": 4,
  "nbformat_minor": 0
}